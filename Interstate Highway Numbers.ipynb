{
 "cells": [
  {
   "cell_type": "code",
   "execution_count": 4,
   "id": "e81da479-a4f6-4a93-b07f-651c87355ab2",
   "metadata": {},
   "outputs": [
    {
     "name": "stdin",
     "output_type": "stream",
     "text": [
      " 95\n"
     ]
    },
    {
     "name": "stdout",
     "output_type": "stream",
     "text": [
      "I-95 is primary, going north/south.\n"
     ]
    }
   ],
   "source": [
    "highway_number = int(input())\n",
    "\n",
    "# Check if the highway number is valid\n",
    "if highway_number < 1 or (highway_number > 99 and (highway_number < 100 or highway_number % 100 == 0)):\n",
    "    print(f\"{highway_number} is not a valid interstate highway number.\")\n",
    "else:\n",
    "    # Check if the highway is primary or auxiliary\n",
    "    if 1 <= highway_number <= 99:\n",
    "        print(f\"I-{highway_number} is primary,\", end=\" \")\n",
    "    else:\n",
    "        print(f\"I-{highway_number} is auxiliary, serving I-{highway_number % 100},\", end=\" \")\n",
    "\n",
    "    # Check the direction of the highway\n",
    "    if (highway_number % 100) % 2 == 0:\n",
    "        print(\"going east/west.\")\n",
    "    else:\n",
    "        print(\"going north/south.\")\n"
   ]
  }
 ],
 "metadata": {
  "kernelspec": {
   "display_name": "Python 3 (ipykernel)",
   "language": "python",
   "name": "python3"
  },
  "language_info": {
   "codemirror_mode": {
    "name": "ipython",
    "version": 3
   },
   "file_extension": ".py",
   "mimetype": "text/x-python",
   "name": "python",
   "nbconvert_exporter": "python",
   "pygments_lexer": "ipython3",
   "version": "3.10.9"
  }
 },
 "nbformat": 4,
 "nbformat_minor": 5
}
