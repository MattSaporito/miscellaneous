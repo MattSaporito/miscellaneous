{
 "cells": [
  {
   "cell_type": "code",
   "execution_count": 1,
   "id": "3c543f86-a0bd-4227-908f-3670c60ed3ff",
   "metadata": {},
   "outputs": [
    {
     "name": "stdin",
     "output_type": "stream",
     "text": [
      " 130\n",
      " 50\n",
      " 130\n"
     ]
    },
    {
     "name": "stdout",
     "output_type": "stream",
     "text": [
      "80 0 80\n"
     ]
    }
   ],
   "source": [
    "# Input: three integers representing color values\n",
    "red = int(input())\n",
    "green = int(input())\n",
    "blue = int(input())\n",
    "\n",
    "# Find the minimum among the three\n",
    "gray = min(red, green, blue)\n",
    "\n",
    "# Subtract the gray part from each color\n",
    "new_red = red - gray\n",
    "new_green = green - gray\n",
    "new_blue = blue - gray\n",
    "\n",
    "# Output the new color values\n",
    "print(f\"{new_red} {new_green} {new_blue}\")"
   ]
  }
 ],
 "metadata": {
  "kernelspec": {
   "display_name": "Python 3 (ipykernel)",
   "language": "python",
   "name": "python3"
  },
  "language_info": {
   "codemirror_mode": {
    "name": "ipython",
    "version": 3
   },
   "file_extension": ".py",
   "mimetype": "text/x-python",
   "name": "python",
   "nbconvert_exporter": "python",
   "pygments_lexer": "ipython3",
   "version": "3.10.9"
  }
 },
 "nbformat": 4,
 "nbformat_minor": 5
}
